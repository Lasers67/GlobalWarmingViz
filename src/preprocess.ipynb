{
 "cells": [
  {
   "cell_type": "code",
   "execution_count": 1,
   "metadata": {},
   "outputs": [],
   "source": [
    "import pandas as pd\n",
    "csv_file = './GlobalLandTemperaturesByCity.csv'\n",
    "\n",
    "data = []\n",
    "df = pd.read_csv(csv_file)\n",
    "\n",
    "\n"
   ]
  },
  {
   "cell_type": "code",
   "execution_count": 7,
   "metadata": {},
   "outputs": [
    {
     "name": "stdout",
     "output_type": "stream",
     "text": [
      "            City Latitude Longitude  Year  AverageTemperature\n",
      "0       A Coruña   42.59N     8.73W  1750           13.489273\n",
      "1       A Coruña   42.59N     8.73W  1751           13.698500\n",
      "2       A Coruña   42.59N     8.73W  1752           10.771333\n",
      "3       A Coruña   42.59N     8.73W  1753           13.151833\n",
      "4       A Coruña   42.59N     8.73W  1754           13.221000\n",
      "...          ...      ...       ...   ...                 ...\n",
      "691126    Ürümqi   44.20N    87.20E  2009            7.287417\n",
      "691127    Ürümqi   44.20N    87.20E  2010            6.650083\n",
      "691128    Ürümqi   44.20N    87.20E  2011            6.806083\n",
      "691129    Ürümqi   44.20N    87.20E  2012            6.600167\n",
      "691130    Ürümqi   44.20N    87.20E  2013            9.472000\n",
      "\n",
      "[691131 rows x 5 columns]\n"
     ]
    }
   ],
   "source": [
    "df = df.dropna(subset=['AverageTemperature'])\n",
    "\n",
    "# Convert the 'dt' column to datetime\n",
    "df['dt'] = pd.to_datetime(df['dt'])\n",
    "\n",
    "# Extract the year from the 'dt' column\n",
    "df['Year'] = df['dt'].dt.year\n",
    "\n",
    "# Filter rows to include only years starting from 1750\n",
    "df = df[df['Year'] >= 1750]\n",
    "\n",
    "# Group by 'City', 'Latitude', 'Longitude', and 'Year' and calculate the mean temperature\n",
    "yearly_avg_temp = df.groupby(['City', 'Latitude', 'Longitude', 'Year'])['AverageTemperature'].mean().reset_index()\n",
    "\n",
    "print(yearly_avg_temp)"
   ]
  },
  {
   "cell_type": "code",
   "execution_count": 8,
   "metadata": {},
   "outputs": [
    {
     "name": "stdout",
     "output_type": "stream",
     "text": [
      "          City Latitude Longitude        max        min\n",
      "0     A Coruña   42.59N     8.73W  15.023250  10.771333\n",
      "1       Aachen   50.63N     6.34E  10.654667   5.275333\n",
      "2      Aalborg   57.05N    10.33E   9.673833   4.090833\n",
      "3          Aba    5.63N     8.07E  27.696667  24.926667\n",
      "4       Abadan   29.74N    48.00E  32.877000  12.220000\n",
      "...        ...      ...       ...        ...        ...\n",
      "3505     Århus   57.05N    10.33E   9.673833   4.090833\n",
      "3506     Çorlu   40.99N    27.69E  15.796875   9.117833\n",
      "3507     Çorum   40.99N    34.08E  12.800375   7.888000\n",
      "3508   Öskemen   50.63N    82.39E   4.595500  -0.989000\n",
      "3509    Ürümqi   44.20N    87.20E   9.472000   4.331800\n",
      "\n",
      "[3510 rows x 5 columns]\n"
     ]
    }
   ],
   "source": [
    "city_temp_extremes = yearly_avg_temp.groupby(['City', 'Latitude', 'Longitude'])['AverageTemperature'].agg(['max', 'min']).reset_index()\n",
    "\n",
    "print(city_temp_extremes)"
   ]
  },
  {
   "cell_type": "code",
   "execution_count": 11,
   "metadata": {},
   "outputs": [
    {
     "name": "stdout",
     "output_type": "stream",
     "text": [
      "          City  Latitude  Longitude  TemperatureDifference\n",
      "0     A Coruña     42.59      -8.73               4.251917\n",
      "1       Aachen     50.63       6.34               5.379333\n",
      "2      Aalborg     57.05      10.33               5.583000\n",
      "3          Aba      5.63       8.07               2.770000\n",
      "4       Abadan     29.74      48.00              20.657000\n",
      "...        ...       ...        ...                    ...\n",
      "3505     Århus     57.05      10.33               5.583000\n",
      "3506     Çorlu     40.99      27.69               6.679042\n",
      "3507     Çorum     40.99      34.08               4.912375\n",
      "3508   Öskemen     50.63      82.39               5.584500\n",
      "3509    Ürümqi     44.20      87.20               5.140200\n",
      "\n",
      "[3510 rows x 4 columns]\n"
     ]
    }
   ],
   "source": [
    "# Function to convert latitude and longitude to numeric\n",
    "def convert_coordinates(coord):\n",
    "    if coord[-1] in ['N', 'E']:\n",
    "        return float(coord[:-1])\n",
    "    elif coord[-1] in ['S', 'W']:\n",
    "        return -float(coord[:-1])\n",
    "    else:\n",
    "        return float(coord)\n",
    "\n",
    "# Convert 'Latitude' and 'Longitude' to numeric values\n",
    "city_temp_extremes['Latitude'] = city_temp_extremes['Latitude'].apply(convert_coordinates)\n",
    "city_temp_extremes['Longitude'] = city_temp_extremes['Longitude'].apply(convert_coordinates)\n",
    "\n",
    "# Add the TemperatureDifference column\n",
    "city_temp_extremes['TemperatureDifference'] = city_temp_extremes['max'] - city_temp_extremes['min']\n",
    "\n",
    "# Drop the 'max' and 'min' columns\n",
    "final_df = city_temp_extremes.drop(columns=['max', 'min'])\n",
    "\n",
    "# Save the final DataFrame to a CSV file\n",
    "final_df.to_csv('city_temp_extremes.csv', index=False)\n",
    "\n",
    "print(final_df)\n"
   ]
  },
  {
   "cell_type": "code",
   "execution_count": 3,
   "metadata": {},
   "outputs": [
    {
     "name": "stdout",
     "output_type": "stream",
     "text": [
      "Average temperature, precipitation, and weather code mode per month for each city has been saved to 'average_temperature_precipitation_weather_code.csv'.\n"
     ]
    }
   ],
   "source": [
    "import pandas as pd\n",
    "\n",
    "# List of CSV files to read\n",
    "csv_files = ['1980.csv', '1990.csv', '2000.csv', '2010.csv','2020.csv']\n",
    "\n",
    "# Empty list to store dataframes\n",
    "dfs = []\n",
    "\n",
    "weather_code_map = {\n",
    "    0: 'Clear sky',\n",
    "    1: 'Clear sky', 2: 'Cloudy', 3: 'Cloudy',\n",
    "    45: 'Fog', 48: 'Fog',\n",
    "    51: 'Drizzle', 53: 'Drizzle', 55: 'Drizzle', 56: 'Drizzle', 57: 'Drizzle',\n",
    "    61: 'Moderate Rain', 63: 'Moderate Rain', 65: 'Moderate Rain', 66: 'Moderate Rain', 67: 'Moderate Rain',\n",
    "    71: 'Snow fall', 73: 'Snow fall', 75: 'Snow fall', 77: 'Snow fall',\n",
    "    80: 'Rain showers', 81: 'Rain showers', 82: 'Rain showers', 85: 'Rain showers', 86: 'Rain showers',\n",
    "    95: 'Thunderstorm', 96: 'Thunderstorm', 99: 'Thunderstorm'\n",
    "}\n",
    "\n",
    "\n",
    "# Iterate over the list of CSV files\n",
    "for file in csv_files:\n",
    "    # Read the CSV file into a DataFrame\n",
    "    df = pd.read_csv(file)\n",
    "    \n",
    "    # Keep only columns: city_name, datetime, temperature, weather_code, and precipitation\n",
    "    df = df[['city_name', 'datetime', 'temperature_2m_mean', 'weather_code', 'precipitation_sum','sunshine_duration','shortwave_radiation_sum','snowfall_sum']]\n",
    "\n",
    "    # Convert datetime column to pandas datetime format\n",
    "    df['datetime'] = pd.to_datetime(df['datetime'], format='%Y-%m-%d')\n",
    "    \n",
    "    # Extract year and month from the datetime column\n",
    "    df['year'] = df['datetime'].dt.to_period('Y')\n",
    "\n",
    "    df['weather_code'] = df['weather_code'].map(weather_code_map).fillna('Unknown') \n",
    "    \n",
    "    # Append the DataFrame to the list\n",
    "    dfs.append(df)\n",
    "\n",
    "# Concatenate all DataFrames in the list\n",
    "final_df = pd.concat(dfs, ignore_index=True)\n",
    "\n",
    "# Group by city_name and year_month to calculate the mean temperature, mode of weather_code, and mean precipitation\n",
    "final_df_grouped = final_df.groupby(['city_name', 'year']).agg(\n",
    "    temperature=('temperature_2m_mean', 'mean'),\n",
    "    precipitation=('precipitation_sum', 'mean'),\n",
    "    snowfall=('snowfall_sum', 'mean'),\n",
    "    sunshine = ('sunshine_duration', 'mean'),\n",
    "    shortwave_radiation=('shortwave_radiation_sum','mean'),\n",
    ").reset_index()\n",
    "\n",
    "final_df_grouped['temperature'] = final_df_grouped['temperature'].round(2)\n",
    "final_df_grouped['precipitation'] = final_df_grouped['precipitation'].round(2)\n",
    "final_df_grouped['snowfall'] = final_df_grouped['snowfall'].round(2)\n",
    "final_df_grouped['sunshine']/=3600\n",
    "final_df_grouped['sunshine'] = final_df_grouped['sunshine'].round(2)\n",
    "final_df_grouped['shortwave_radiation'] = final_df_grouped['shortwave_radiation'].round(2)\n",
    "\n",
    "# Write the resulting DataFrame to a new CSV file\n",
    "final_df_grouped.to_csv('datasetNEW.csv', index=False)\n",
    "\n",
    "print(\"Average temperature, precipitation, and weather code mode per month for each city has been saved to 'average_temperature_precipitation_weather_code.csv'.\")\n"
   ]
  },
  {
   "cell_type": "code",
   "execution_count": null,
   "metadata": {},
   "outputs": [],
   "source": [
    "csv_files = ['1980.csv', '1990.csv', '2000.csv', '2010.csv','2020.csv']\n",
    "dfs = []\n",
    "for file in csv_files:\n",
    "    # Read the CSV file into a DataFrame\n",
    "    df = pd.read_csv(file)\n",
    "    \n",
    "    # Keep only columns: city_name, datetime, temperature, weather_code, and precipitation\n",
    "    df = df[['city_name', 'datetime', 'temperature_2m_mean', 'precipitation_sum','daylight_duration','shortwave_radiation_sum','et0_fao_evapotranspiration']]\n",
    "\n",
    "    # Convert datetime column to pandas datetime format\n",
    "    df['datetime'] = pd.to_datetime(df['datetime'], format='%Y-%m-%d')\n",
    "    \n",
    "    # Extract year and month from the datetime column\n",
    "    df['year'] = df['datetime'].dt.to_period('Y')\n",
    "    \n",
    "    # Append the DataFrame to the list\n",
    "    dfs.append(df)\n",
    "\n",
    "final_df = pd.concat(dfs, ignore_index=True)\n",
    "\n",
    "    df['mean_temperature'] = df['temperature_2m_mean'].agg('mean')\n",
    "\n",
    "    df['mean_precipitation'] = df['precipitation_sum'].agg('mean')\n",
    "    df['mean_daylight_duration'] = df['daylight_duration'].agg('mean')\n",
    "    df['mean_shortwave_radiation_sum'] = df['shortwave_radiation_sum'].agg('mean')\n",
    "    df['mean_evapotranspiration'] = df['et0_fao_evapotranspiration'].agg('mean')\n",
    "    "
   ]
  },
  {
   "cell_type": "code",
   "execution_count": 4,
   "metadata": {},
   "outputs": [
    {
     "ename": "ModuleNotFoundError",
     "evalue": "No module named 'dash'",
     "output_type": "error",
     "traceback": [
      "\u001b[0;31m---------------------------------------------------------------------------\u001b[0m",
      "\u001b[0;31mModuleNotFoundError\u001b[0m                       Traceback (most recent call last)",
      "Cell \u001b[0;32mIn[4], line 2\u001b[0m\n\u001b[1;32m      1\u001b[0m \u001b[38;5;28;01mimport\u001b[39;00m \u001b[38;5;21;01murllib\u001b[39;00m\u001b[38;5;21;01m.\u001b[39;00m\u001b[38;5;21;01mrequest\u001b[39;00m \u001b[38;5;28;01mas\u001b[39;00m \u001b[38;5;21;01murlreq\u001b[39;00m\n\u001b[0;32m----> 2\u001b[0m \u001b[38;5;28;01mfrom\u001b[39;00m \u001b[38;5;21;01mdash\u001b[39;00m \u001b[38;5;28;01mimport\u001b[39;00m Dash, html\n\u001b[1;32m      3\u001b[0m \u001b[38;5;28;01mimport\u001b[39;00m \u001b[38;5;21;01mdash_bio\u001b[39;00m \u001b[38;5;28;01mas\u001b[39;00m \u001b[38;5;21;01mdashbio\u001b[39;00m\n\u001b[1;32m      5\u001b[0m app \u001b[38;5;241m=\u001b[39m Dash(\u001b[38;5;18m__name__\u001b[39m)\n",
      "\u001b[0;31mModuleNotFoundError\u001b[0m: No module named 'dash'"
     ]
    }
   ],
   "source": []
  },
  {
   "cell_type": "code",
   "execution_count": null,
   "metadata": {},
   "outputs": [],
   "source": [
    "temp\n",
    "precipitation\n",
    "daylight\n",
    "shortwave_radiation_sum\n",
    "et0_fao_evapotranspiration"
   ]
  }
 ],
 "metadata": {
  "kernelspec": {
   "display_name": "Python 3",
   "language": "python",
   "name": "python3"
  },
  "language_info": {
   "codemirror_mode": {
    "name": "ipython",
    "version": 3
   },
   "file_extension": ".py",
   "mimetype": "text/x-python",
   "name": "python",
   "nbconvert_exporter": "python",
   "pygments_lexer": "ipython3",
   "version": "3.9.6"
  }
 },
 "nbformat": 4,
 "nbformat_minor": 2
}
